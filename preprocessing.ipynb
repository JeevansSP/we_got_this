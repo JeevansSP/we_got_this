{
 "cells": [
  {
   "cell_type": "markdown",
   "id": "2d89e461-02f4-432a-b1de-6cfb56850426",
   "metadata": {},
   "source": [
    "# Mission Dotlas - Preprocessing Assignment 🌎 (30 points)\n",
    "\n",
    "### 1.1 About\n",
    "\n",
    "Welcome to your mission! In this notebook, you will download a dataset containing restaurants' information in the state of California, US. The dataset will then be cleaned, processed and prepared in a required format. This clean dataset will then be used to answer some analytical questions and create a few data visualizations in Python.\n",
    "\n",
    "This is a template notebook that has some code already filled-in to help you on your way. There are also cells that require you to fill in the python code to solve specific problems. There are sections of the notebook that contain a points tally for code written.\n",
    "\n",
    "May the force be with you!"
   ]
  },
  {
   "cell_type": "markdown",
   "id": "ba460626-7d60-4959-b7bb-4609817482d6",
   "metadata": {},
   "source": [
    "### 1.2 Tools & Technologies\n",
    "\n",
    "* This exercise will be carried out using the [Python](https://www.python.org/) programming language and will rely hevily on the [Pandas](https://pandas.pydata.org/) library for data manipulation. \n",
    "* You may use any of [Matplotlib](https://matplotlib.org/) or [Plotly](https://plotly.com/python/) packages for data visualization. \n",
    "* We will be using [Jupyter notebooks](https://jupyter.org/) to run Python code in order to view and interact better with our data and visualizations. \n",
    "* You are free to use [Google Colab](https://colab.research.google.com/) which provides an easy-to-use Jupyter interface. \n",
    "* When not in Colab, it is recommended to run this Jupyter Notebook within an [Anaconda](https://continuum.io/) environment\n",
    "\n",
    "> ⚠ **Ensure that your python version is 3.9 or higher** \n",
    "\n",
    "![](https://upload.wikimedia.org/wikipedia/commons/1/1b/Blue_Python_3.9_Shield_Badge.svg)\n",
    "\n",
    "**Languages and Formats**\n",
    "\n",
    "![Markdown](https://img.shields.io/badge/markdown-%23000000.svg?style=for-the-badge&logo=markdown&logoColor=white)\n",
    "![Python](https://img.shields.io/badge/python-3670A0?style=for-the-badge&logo=python&logoColor=ffdd54)\n",
    "\n",
    "**Environments & Packages**\n",
    "\n",
    "![Anaconda](https://img.shields.io/badge/Anaconda-%2344A833.svg?style=for-the-badge&logo=anaconda&logoColor=white)\n",
    "![Jupyter Notebook](https://img.shields.io/badge/jupyter-%23FA0F00.svg?style=for-the-badge&logo=jupyter&logoColor=white)\n",
    "![Pandas](https://img.shields.io/badge/pandas-%23150458.svg?style=for-the-badge&logo=pandas&logoColor=white)\n",
    "![Matplotlib](https://img.shields.io/badge/Matplotlib-%23ffffff.svg?style=for-the-badge&logo=Matplotlib&logoColor=black)\n",
    "![Plotly](https://img.shields.io/badge/Plotly-%233F4F75.svg?style=for-the-badge&logo=plotly&logoColor=white)\n",
    "\n",
    "**Data Store**\n",
    "\n",
    "![AWS](https://img.shields.io/badge/AWS-%23FF9900.svg?style=for-the-badge&logo=amazon-aws&logoColor=white)"
   ]
  },
  {
   "cell_type": "markdown",
   "id": "47722466-8e42-477c-9daf-749dc54db985",
   "metadata": {},
   "source": [
    "In this section, we will load the dataset from AWS, conduct an exploratory data analysis and then clean up the dataset "
   ]
  },
  {
   "cell_type": "markdown",
   "id": "383edc6e-9462-4b0b-b1aa-ca33055b38e3",
   "metadata": {},
   "source": [
    "### 2.1 Read California Restaurants (3 points)\n",
    "\n",
    "* Ensure that pandas and plotly are installed (possibly via pip or poetry)\n",
    "* The dataset is about 300 MB in size and time-to-download depends on internet speed and availability\n",
    "* Download the dataset using Python into this notebook and load it into a pandas dataframe (without writing to file)"
   ]
  },
  {
   "cell_type": "code",
   "execution_count": 1,
   "id": "ed554fdc-0de7-4cd4-8e93-725038033590",
   "metadata": {},
   "outputs": [],
   "source": [
    "from matplotlib import pyplot as plt\n",
    "%matplotlib inline\n",
    "\n",
    "import pandas as pd\n",
    "import plotly.express as px\n",
    "import numpy as np\n",
    "\n",
    "CELL_HEIGHT: int = 50\n",
    "\n",
    "# Initialize helpers to ignore pandas warnings and resize columns and cells\n",
    "pd.set_option(\"chained_assignment\", None)\n",
    "pd.set_option(\"display.max_rows\", 50)\n",
    "pd.set_option(\"display.max_columns\", 500)\n",
    "pd.set_option('display.max_colwidth', CELL_HEIGHT)\n",
    "\n",
    "DATA_URL: str = \"https://dotlas-marketing.s3.amazonaws.com/interviews/california_restaurants.json\""
   ]
  },
  {
   "cell_type": "code",
   "execution_count": null,
   "id": "0e60d6b3-cea6-4a12-b85d-15748a6be4ea",
   "metadata": {},
   "outputs": [],
   "source": [
    "%%time\n",
    "# ✏️ YOUR CODE HERE"
   ]
  },
  {
   "cell_type": "markdown",
   "id": "521e6f26-8256-4f7b-b662-4580448d07a0",
   "metadata": {},
   "source": [
    "Create a restaurant ID column to uniquely index each restaurant"
   ]
  },
  {
   "cell_type": "code",
   "execution_count": 3,
   "id": "d2eb6ee1-51cb-4c01-8bee-9bb87ff6c7bb",
   "metadata": {},
   "outputs": [],
   "source": [
    "df['restaurant_id'] = range(1, len(df) + 1)\n",
    "df.head(2)"
   ]
  },
  {
   "cell_type": "markdown",
   "id": "0b5d359f-7c75-40b4-81a2-b294fd9e388c",
   "metadata": {},
   "source": [
    "### 2.2 Basic Operations (4 points)"
   ]
  },
  {
   "cell_type": "markdown",
   "id": "47f2c62f-da56-40f1-abda-29ba3ee4a5a3",
   "metadata": {},
   "source": [
    "#### 2.2.1 Restaurants by City (1 point)\n",
    "\n",
    "For each city in california, find \n",
    "1. the number of restaurants in that city, \n",
    "2. mean rating of all restaurants in the city, \n",
    "3. mean `price_range_id` per city, \n",
    "4. mean `maximum_days_advance_for_reservation` per city\n",
    "\n",
    "sort by number of restaurants.\n",
    "\n",
    "The resulting dataframe's top 5 rows would look as follows:\n",
    "\n",
    "| city          |   restaurant_count |   avg_rating |   avg_price_range_id |   avg_reservation_advance |\n",
    "|:--------------|-------------------:|-------------:|---------------------:|-----------------------:|\n",
    "| San Francisco |               1645 |      2.59343 |              2.3617  |                90.3453 |\n",
    "| Los Angeles   |               1604 |      2.31995 |              2.29052 |                86.692  |\n",
    "| San Diego     |               1034 |      2.65493 |              2.28723 |                94.5783 |\n",
    "| San Jose      |                372 |      1.54597 |              2.16398 |                88.3011 |\n",
    "| Sacramento    |                329 |      1.68663 |              2.26748 |                95.0274 |"
   ]
  },
  {
   "cell_type": "code",
   "execution_count": null,
   "id": "0a730825-0f6d-49fd-8803-8b3e81fcd752",
   "metadata": {},
   "outputs": [],
   "source": [
    "# ✏️ YOUR CODE HERE"
   ]
  },
  {
   "cell_type": "markdown",
   "id": "8b26973b-27bf-4aa3-bd41-72a502e8ce31",
   "metadata": {},
   "source": [
    "#### 2.2.2 Restaurants by Brand (1 point)\n",
    "\n",
    "For each brand (`brand_name`) in california, find \n",
    "1. the number of restaurants that belong to that brand, \n",
    "3. mean `price_range_id` of the brand across its restaurants\n",
    "\n",
    "sort by number of restaurants.\n",
    "\n",
    "The resulting dataframe's top 5 rows would look as follows:\n",
    "\n",
    "| brand_name               |   restaurant_count |   avg_price_range_id |\n",
    "|:-------------------------|-------------------:|---------------------:|\n",
    "| Denny's                  |                 73 |                    2 |\n",
    "| Ihop                     |                 37 |                    2 |\n",
    "| Buffalo Wild Wings       |                 32 |                    2 |\n",
    "| Black Bear Diner         |                 28 |                    2 |\n",
    "| Coco's Bakery Restaurant |                 24 |                     2 |"
   ]
  },
  {
   "cell_type": "code",
   "execution_count": 79,
   "id": "7f230d14-518e-4bf4-bbeb-8fc5804ff0f1",
   "metadata": {},
   "outputs": [],
   "source": [
    "# ✏️ YOUR CODE HERE"
   ]
  },
  {
   "cell_type": "markdown",
   "id": "8111c4e6-5655-487a-a2cc-179744d747cb",
   "metadata": {},
   "source": [
    "#### 2.2.3 Visualize Brands (2 points)\n",
    "Create a bar chart of top 5 brands in california by average number of reviews where each brand has at least 5 restaurants"
   ]
  },
  {
   "cell_type": "code",
   "execution_count": 80,
   "id": "56fb034d-b9a6-4ad7-a498-17e75f5f8781",
   "metadata": {},
   "outputs": [],
   "source": [
    "# ✏️ YOUR CODE HERE"
   ]
  },
  {
   "cell_type": "markdown",
   "id": "ca9dd2a4-26dd-477f-aa08-fa6b5e47cc9e",
   "metadata": {
    "tags": []
   },
   "source": [
    "### 2.3 Menu-Level Table (8 points)\n",
    "\n",
    "Create a menu-level table by parsing out menu items from the `menu` column per restaurant. The resulting dataframe would look as follows:\n",
    "\n",
    "| restaurant_id | menu_name   | menu_description   |   menu_provider | section_name   | section_description   | item_name          | item_description                                                                                                      |   item_price | item_price_currency   |\n",
    "|----------------:|:------------|:-------------------|----------------:|:---------------|:----------------------|:-------------------|:----------------------------------------------------------------------------------------------------------------------|-------------:|:----------------------|\n",
    "|               1 | Main Menu   |                    |             nan | Appetizers     |                       | Egg Rolls          | Deep fried mixed veggie egg rolls served with sweet & sour sauce                                                      |          8   | USD                   |\n",
    "|               1 | Main Menu   |                    |             nan | Appetizers     |                       | Fried Tofu         | (Contains Peanut) Deep fried tofu, served with sweet & sour sauce and crushed peanut                                  |          8   | USD                   |\n",
    "|               1 | Main Menu   |                    |             nan | Appetizers     |                       | Fried Meat Balls   | Deep fried fish, pork, beef balls or mixed served with sweet & sour sauce. Meat: Beef $1, Fish, Mixed Meat ball, Pork |          8.5 | USD                   |\n",
    "|               1 | Main Menu   |                    |             nan | Appetizers     |                       | Pork Jerky         | Deep fried marinated pork served with special jaew sauce                                                              |          8.5 | USD                   |\n",
    "|               1 | Main Menu   |                    |             nan | Appetizers     |                       | Thai Isaan Sausage | (Contains Peanut) Thai Style sausage served with fresh vegetables and peanuts                                         |          9   | USD                   |"
   ]
  },
  {
   "cell_type": "code",
   "execution_count": null,
   "id": "44ea9322-1a1c-4c77-a661-ea8176c5f07d",
   "metadata": {},
   "outputs": [],
   "source": [
    "# ✏️ YOUR CODE HERE"
   ]
  },
  {
   "cell_type": "markdown",
   "id": "3563bc25-cbcf-451c-876e-2095248ffee6",
   "metadata": {},
   "source": [
    "Remember to hydrate and\n",
    "\n",
    "![Spotify](https://img.shields.io/badge/Spotify-1ED760?style=for-the-badge&logo=spotify&logoColor=white)"
   ]
  },
  {
   "cell_type": "markdown",
   "id": "ad7f78bb-91d8-4b1a-8cb0-0a60dd1b9e4c",
   "metadata": {},
   "source": [
    "### 2.4 Transform Columns (15 Points)"
   ]
  },
  {
   "cell_type": "markdown",
   "id": "8cf2c3d6-5a03-4eb5-b568-7c8e265fd448",
   "metadata": {},
   "source": [
    "#### 2.4.1 Safety Precautions (2 points)\n",
    "\n",
    "Transform the entire safety precautions column into a new column based on the following rule:\n",
    "\n",
    "Convert from dictionary to list. Only include in the list, those keys in the dictionary which are true.\n",
    "For ex, for safety precautions of the type:\n",
    "```python\n",
    "{\n",
    "    'cleanMenus': True,\n",
    "    'limitedSeating': False,\n",
    "    'sealedUtensils': None,\n",
    "    'prohibitSickStaff': True,\n",
    "    'requireDinerMasks': True,\n",
    "    'staffIsVaccinated': None,\n",
    "    'proofOfVaccinationRequired': False,\n",
    "    'sanitizerProvidedForCustomers': None\n",
    "}\n",
    "```\n",
    "It should turn into a list of the form:\n",
    "```python\n",
    "[\"Clean Menus\", \"Prohibit Sick Staff\", \"Require Diner Masks\"]\n",
    "```"
   ]
  },
  {
   "cell_type": "code",
   "execution_count": 59,
   "id": "10ab564c-fa83-4a50-b885-650e4c76e6aa",
   "metadata": {},
   "outputs": [],
   "source": [
    "# ✏️ YOUR CODE HERE"
   ]
  },
  {
   "cell_type": "markdown",
   "id": "28008039-4e56-4876-b4f3-faee50990b0f",
   "metadata": {},
   "source": [
    "#### 2.4.2 Clean up HTML text (2 points)\n",
    "Find columns containing text / strings that have html text and remove those HTML texts\n",
    "\n",
    "ex:\n",
    "\n",
    "```html\n",
    "<p>Feast on delicious grub at Jerry's Famous Deli.<br> Its retro-style casual setting features comfortable booth seating.</p>\n",
    "```\n",
    "to:\n",
    "\n",
    "```\n",
    "Feast on delicious grub at Jerry's Famous Deli. Its retro-style casual setting features comfortable booth seating.\n",
    "```"
   ]
  },
  {
   "cell_type": "code",
   "execution_count": null,
   "id": "3b807861-41ac-42c6-9792-6e8783d76539",
   "metadata": {},
   "outputs": [],
   "source": [
    "# ✏️ YOUR CODE HERE"
   ]
  },
  {
   "cell_type": "markdown",
   "id": "8472e53d-b62e-4bb5-954c-b878d295b6af",
   "metadata": {},
   "source": [
    "#### 2.4.3 Operating Hours (8 points)\n",
    "Create an operating hours [bitmap](https://en.wikipedia.org/wiki/Bit_array) from the operating hours text.\n",
    "The bitmap would be a matrix of size 24 x 7 where a 1 or 0 on each cell indicates whether the restaurant operates on a specific day during a specific hour\n",
    "\n",
    "Example: For operating hours text of the form:\n",
    "```tex\n",
    "Lunch\n",
    "Daily 11:00 am–3:30 pm\n",
    "Dinner\n",
    "Daily 4:30 pm–11:30 pm\n",
    "```\n",
    "Create a bitmap of the following form:\n",
    "```json\n",
    "{\n",
    "    \"Monday\" : [0,0,0,0,0,0,0,0,0,0,0,1,1,1,1,1,0,1,1,1,1,1,1,1],\n",
    "    \"Tuesday\" : [0,0,0,0,0,0,0,0,0,0,0,1,1,1,1,1,0,1,1,1,1,1,1,1],\n",
    "    .\n",
    "    .\n",
    "    .\n",
    "    \"Sunday\" : [0,0,0,0,0,0,0,0,0,0,0,1,1,1,1,1,0,1,1,1,1,1,1,1],\n",
    "    \n",
    "}\n",
    "```"
   ]
  },
  {
   "cell_type": "code",
   "execution_count": null,
   "id": "93ac70d9-6b5a-482e-9c49-92556ed0b704",
   "metadata": {},
   "outputs": [],
   "source": [
    "# ✏️ YOUR CODE HERE"
   ]
  },
  {
   "cell_type": "markdown",
   "id": "ecb76263-094a-4ee6-842d-24da225eb72d",
   "metadata": {},
   "source": [
    "#### 2.4.4 Imputing (3 points)\n",
    "Fill up missing values for rating, rating count and review count by imputing based on the following columns in order:\n",
    "1. `brand_name`\n",
    "2. `area`\n",
    "3. `city`\n",
    "\n",
    "This means that if `rating` is missing for a restaurant (null / 0), but that restaurant is part of a brand where \n",
    "other restaurants of the same brand have ratings, then a median rating is taken. If brands are complete, then missing values are filled using\n",
    "area where the restaurant is located (median rating) and finally filled using the city's rating"
   ]
  },
  {
   "cell_type": "code",
   "execution_count": null,
   "id": "5138cd99-9cc4-4b67-8f37-3a3efe29853a",
   "metadata": {},
   "outputs": [],
   "source": [
    "# ✏️ YOUR CODE HERE"
   ]
  }
 ],
 "metadata": {
  "kernelspec": {
   "display_name": "mission_dotlas",
   "language": "python",
   "name": "mission_dotlas"
  },
  "language_info": {
   "codemirror_mode": {
    "name": "ipython",
    "version": 3
   },
   "file_extension": ".py",
   "mimetype": "text/x-python",
   "name": "python",
   "nbconvert_exporter": "python",
   "pygments_lexer": "ipython3",
   "version": "3.9.13"
  }
 },
 "nbformat": 4,
 "nbformat_minor": 5
}
