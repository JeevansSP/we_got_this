{
 "cells": [
  {
   "cell_type": "markdown",
   "id": "2d89e461-02f4-432a-b1de-6cfb56850426",
   "metadata": {},
   "source": [
    "# Mission Dotlas - Analysis Assignment 🌎 (10 points)\n",
    "\n",
    "### 1.1 About\n",
    "\n",
    "Welcome to your mission! In this notebook, you will download a dataset containing restaurants' information in the state of California, US. The dataset will then be cleaned, processed and prepared in a required format. This clean dataset will then be used to answer some analytical questions and create a couple data visualizations in Python.\n",
    "\n",
    "This is a template notebook that has some code already filled-in to help you on your way. There are also cells that require you to fill in the python code to solve specific problems. There are sections of the notebook that contain a points tally for code written.\n",
    "\n",
    "May the force be with you!"
   ]
  },
  {
   "cell_type": "markdown",
   "id": "ba460626-7d60-4959-b7bb-4609817482d6",
   "metadata": {},
   "source": [
    "### 1.2 Tools & Technologies\n",
    "\n",
    "* This exercise will be carried out using the [Python](https://www.python.org/) programming language and will rely hevily on the [Pandas](https://pandas.pydata.org/) library for data manipulation. \n",
    "* You may use any of [Matplotlib](https://matplotlib.org/) or [Plotly](https://plotly.com/python/) packages for data visualization. \n",
    "* We will be using [Jupyter notebooks](https://jupyter.org/) to run Python code in order to view and interact better with our data and visualizations. \n",
    "* You are free to use [Google Colab](https://colab.research.google.com/) which provides an easy-to-use Jupyter interface. \n",
    "* When not in Colab, it is recommended to run this Jupyter Notebook within an [Anaconda](https://continuum.io/) environment\n",
    "\n",
    "> ⚠ **Ensure that your python version is 3.9 or higher** \n",
    "\n",
    "![](https://upload.wikimedia.org/wikipedia/commons/1/1b/Blue_Python_3.9_Shield_Badge.svg)\n",
    "\n",
    "**Languages and Formats**\n",
    "\n",
    "![Markdown](https://img.shields.io/badge/markdown-%23000000.svg?style=for-the-badge&logo=markdown&logoColor=white)\n",
    "![Python](https://img.shields.io/badge/python-3670A0?style=for-the-badge&logo=python&logoColor=ffdd54)\n",
    "\n",
    "**Environments & Packages**\n",
    "\n",
    "![Anaconda](https://img.shields.io/badge/Anaconda-%2344A833.svg?style=for-the-badge&logo=anaconda&logoColor=white)\n",
    "![Jupyter Notebook](https://img.shields.io/badge/jupyter-%23FA0F00.svg?style=for-the-badge&logo=jupyter&logoColor=white)\n",
    "![Pandas](https://img.shields.io/badge/pandas-%23150458.svg?style=for-the-badge&logo=pandas&logoColor=white)\n",
    "![Matplotlib](https://img.shields.io/badge/Matplotlib-%23ffffff.svg?style=for-the-badge&logo=Matplotlib&logoColor=black)\n",
    "![Plotly](https://img.shields.io/badge/Plotly-%233F4F75.svg?style=for-the-badge&logo=plotly&logoColor=white)\n",
    "\n",
    "**Data Store**\n",
    "\n",
    "![AWS](https://img.shields.io/badge/AWS-%23FF9900.svg?style=for-the-badge&logo=amazon-aws&logoColor=white)"
   ]
  },
  {
   "cell_type": "markdown",
   "id": "47722466-8e42-477c-9daf-749dc54db985",
   "metadata": {},
   "source": [
    "In this section, we will load the dataset from AWS, conduct an exploratory data analysis and then clean up the dataset "
   ]
  },
  {
   "cell_type": "markdown",
   "id": "383edc6e-9462-4b0b-b1aa-ca33055b38e3",
   "metadata": {},
   "source": [
    "### 2.1 Read California Restaurants (0 points)\n",
    "\n",
    "* Ensure that pandas and plotly are installed (possibly via pip or poetry)\n",
    "* The dataset is about 300 MB in size and time-to-download depends on internet speed and availability\n",
    "* Download the dataset using Python into this notebook and load it into a pandas dataframe (without writing to file)"
   ]
  },
  {
   "cell_type": "code",
   "execution_count": 2,
   "id": "ed554fdc-0de7-4cd4-8e93-725038033590",
   "metadata": {},
   "outputs": [],
   "source": [
    "from matplotlib import pyplot as plt\n",
    "%matplotlib inline\n",
    "\n",
    "import pandas as pd\n",
    "import plotly.express as px\n",
    "import numpy as np\n",
    "\n",
    "CELL_HEIGHT: int = 50\n",
    "\n",
    "# Initialize helpers to ignore pandas warnings and resize columns and cells\n",
    "pd.set_option(\"chained_assignment\", None)\n",
    "pd.set_option(\"display.max_rows\", 50)\n",
    "pd.set_option(\"display.max_columns\", 500)\n",
    "pd.set_option('display.max_colwidth', CELL_HEIGHT)\n",
    "\n",
    "DATA_URL: str = \"https://dotlas-marketing.s3.amazonaws.com/interviews/california_restaurants.json\""
   ]
  },
  {
   "cell_type": "code",
   "execution_count": null,
   "id": "a9e1b9e2-7fd3-406d-bc83-3ee0e8c4c00b",
   "metadata": {},
   "outputs": [],
   "source": []
  },
  {
   "cell_type": "markdown",
   "id": "521e6f26-8256-4f7b-b662-4580448d07a0",
   "metadata": {},
   "source": [
    "Create a restaurant ID column to uniquely index each restaurant"
   ]
  },
  {
   "cell_type": "code",
   "execution_count": null,
   "id": "ca95a170-8f7e-43a1-b7de-9bb90656d638",
   "metadata": {},
   "outputs": [],
   "source": [
    "df['restaurant_id'] = range(1, len(df) + 1)\n",
    "df.head(2)"
   ]
  },
  {
   "cell_type": "code",
   "execution_count": 7,
   "id": "48a33486-d628-4aaa-ade1-4357adda9e6d",
   "metadata": {},
   "outputs": [],
   "source": [
    "df = df.applymap(lambda cell: None if type(cell) is list and len(cell) == 0 else cell)\n",
    "df = df.replace(0, np.nan)"
   ]
  },
  {
   "cell_type": "code",
   "execution_count": null,
   "id": "ec54e7a9-4c5e-465a-a4cc-581a43fc632c",
   "metadata": {},
   "outputs": [],
   "source": [
    "df.info()"
   ]
  },
  {
   "cell_type": "markdown",
   "id": "b1415f5d-2c5e-4cd6-a59a-9a6bb9d04771",
   "metadata": {},
   "source": [
    "#### 3.1 Analytical Questions - Answer any Three Questions using the Data (10 points)\n",
    "\n",
    "1. 🧑🏻‍🍳 Which executive chef appears in the most restaurants?\n",
    "\n",
    "2. 🎸 What is the correlation between a restaurant's review count vs the place's features like entertainment, daily reservation count, price range, etc.\n",
    "\n",
    "3. 🌉 Which areas according to you have the best restaurants in the city and why? You can define best based on whatever criteria you wish as long as it involves measuring more than a single column. For ex. You cannot merely claim that the restaurant with the highest rating is the best restaurant.\n",
    "\n",
    "4. 🔗 Which columns seem to play / not play a major factor in whether or not the restaurant has an award? Justify your options\n",
    "\n",
    "5. 🗺 Are all coordinates present within the state of California? How would you ensure that you filter only those within the state?\n",
    "\n",
    "6. 🥨 Which columns are highly correlated between each other and can be treated as redundant?"
   ]
  },
  {
   "cell_type": "code",
   "execution_count": null,
   "id": "cd7bb2ec-cf0b-474c-8e22-ec25751f483c",
   "metadata": {},
   "outputs": [],
   "source": []
  },
  {
   "cell_type": "code",
   "execution_count": null,
   "id": "3172d9c8-cd96-4105-ac61-f800b0add2fa",
   "metadata": {},
   "outputs": [],
   "source": []
  }
 ],
 "metadata": {
  "kernelspec": {
   "display_name": "mission_dotlas",
   "language": "python",
   "name": "mission_dotlas"
  },
  "language_info": {
   "codemirror_mode": {
    "name": "ipython",
    "version": 3
   },
   "file_extension": ".py",
   "mimetype": "text/x-python",
   "name": "python",
   "nbconvert_exporter": "python",
   "pygments_lexer": "ipython3",
   "version": "3.9.13"
  }
 },
 "nbformat": 4,
 "nbformat_minor": 5
}
